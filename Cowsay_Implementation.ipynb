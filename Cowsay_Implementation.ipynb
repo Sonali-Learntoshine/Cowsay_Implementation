{
 "cells": [
  {
   "cell_type": "code",
   "execution_count": 1,
   "metadata": {},
   "outputs": [
    {
     "name": "stdout",
     "output_type": "stream",
     "text": [
      "Requirement already satisfied: cowsay in c:\\programdata\\anaconda3\\lib\\site-packages (3.0)\n",
      "Note: you may need to restart the kernel to use updated packages.\n"
     ]
    }
   ],
   "source": [
    "pip install cowsay"
   ]
  },
  {
   "cell_type": "code",
   "execution_count": 2,
   "metadata": {},
   "outputs": [],
   "source": [
    "import cowsay as cw"
   ]
  },
  {
   "cell_type": "code",
   "execution_count": 3,
   "metadata": {},
   "outputs": [
    {
     "name": "stdout",
     "output_type": "stream",
     "text": [
      "  ______________\n",
      "< Hello, Sonali! >\n",
      "  ==============\n",
      "                   \\\n",
      "                    \\\n",
      "                     \\\n",
      "                      \\            \n",
      "                       /- _  `-/  '\n",
      "                      (/\\/ \\ \\   /\\\n",
      "                      / /   | `    \\\n",
      "                      O O   ) /    |\n",
      "                      `-^--'`<     '\n",
      "                     (_.)  _  )   /\n",
      "                      `.___/`    /\n",
      "                        `-----' /\n",
      "           <----.     __ / __   \\\n",
      "           <----|====O)))==) \\) /====\n",
      "           <----'    `--' `.__,' \\\n",
      "                        |        |\n",
      "                         \\       /\n",
      "                   ______( (_  / \\______\n",
      "                 ,'  ,-----'   |        \\\n",
      "                 `--{__________)        \\/\n",
      "                 \n",
      "                  \n"
     ]
    }
   ],
   "source": [
    "cw.daemon(\"Hello, Sonali!\")"
   ]
  },
  {
   "cell_type": "code",
   "execution_count": 4,
   "metadata": {},
   "outputs": [
    {
     "name": "stdout",
     "output_type": "stream",
     "text": [
      "  _______________\n",
      "< What's going on >\n",
      "  ===============\n",
      "                    \\\n",
      "                     \\\n",
      "                      \\\n",
      "                            _------~~-,\n",
      "                         ,'            ,\n",
      "                         /               \\\\\n",
      "                        /                :\n",
      "                       |                  '\n",
      "                       |                  |\n",
      "                       |                  |\n",
      "                        |   _--           |\n",
      "                        _| =-.     .-.   ||\n",
      "                        o|/o/       _.   |\n",
      "                        /  ~          \\\\ |\n",
      "                      (____\\@)  ___~    |\n",
      "                         |_===~~~.`    |\n",
      "                      _______.--~     |\n",
      "                      \\\\________       |\n",
      "                               \\\\      |\n",
      "                             __/-___-- -__\n",
      "                            /            _ \\\\\n",
      "                            \n",
      "                           \n"
     ]
    }
   ],
   "source": [
    "cw.beavis(\"What's going on\")"
   ]
  },
  {
   "cell_type": "code",
   "execution_count": 5,
   "metadata": {},
   "outputs": [
    {
     "data": {
      "text/plain": [
       "['beavis',\n",
       " 'cheese',\n",
       " 'daemon',\n",
       " 'cow',\n",
       " 'dragon',\n",
       " 'ghostbusters',\n",
       " 'kitty',\n",
       " 'meow',\n",
       " 'milk',\n",
       " 'pig',\n",
       " 'stegosaurus',\n",
       " 'stimpy',\n",
       " 'turkey',\n",
       " 'turtle',\n",
       " 'tux']"
      ]
     },
     "execution_count": 5,
     "metadata": {},
     "output_type": "execute_result"
    }
   ],
   "source": [
    "cw.char_names"
   ]
  },
  {
   "cell_type": "code",
   "execution_count": 6,
   "metadata": {},
   "outputs": [
    {
     "data": {
      "text/plain": [
       "<function cowsay.beavis(args)>"
      ]
     },
     "execution_count": 6,
     "metadata": {},
     "output_type": "execute_result"
    }
   ],
   "source": [
    "cw.chars[0]"
   ]
  },
  {
   "cell_type": "code",
   "execution_count": 7,
   "metadata": {},
   "outputs": [
    {
     "name": "stdout",
     "output_type": "stream",
     "text": [
      "  _______\n",
      "< Dreamer >\n",
      "  =======\n",
      "            \\\n",
      "             \\\n",
      "              \\\n",
      "               \\             \n",
      "                 /     \\_/         |\n",
      "                |                 ||\n",
      "                |                 ||\n",
      "               |    ###\\  /###   | |\n",
      "               |     0  \\/  0    | |\n",
      "              /|                 | |\n",
      "             / |        <        |\\ \\\n",
      "            | /|                 | | |\n",
      "            | |     \\_______/   |  | |\n",
      "            | |                 | / /\n",
      "            /||                 /|||\n",
      "               ----------------|\n",
      "                    | |    | |\n",
      "                    ***    ***\n",
      "                   /___\\  /___\\\n",
      "                   \n",
      "                   \n"
     ]
    }
   ],
   "source": [
    "cw.cheese(\"Dreamer\")"
   ]
  },
  {
   "cell_type": "code",
   "execution_count": 8,
   "metadata": {},
   "outputs": [
    {
     "name": "stdout",
     "output_type": "stream",
     "text": [
      "  _____\n",
      "< Hello >\n",
      "  =====\n",
      "          \\\n",
      "           \\\n",
      "             ^__^                             \n",
      "             (oo)\\_______                   \n",
      "             (__)\\       )\\/\\             \n",
      "                 ||----w |           \n",
      "                 ||     ||  \n",
      "                 \n",
      "                 \n"
     ]
    }
   ],
   "source": [
    "cw.cow(\"Hello\")"
   ]
  },
  {
   "cell_type": "code",
   "execution_count": 9,
   "metadata": {},
   "outputs": [
    {
     "name": "stdout",
     "output_type": "stream",
     "text": [
      "  ___________________________\n",
      "< simple living high thinking >\n",
      "  ===========================\n",
      "                                \\\n",
      "                                 \\\n",
      "                                  \\\n",
      "                                   \\                               \n",
      "                                                         / \\\\  //\\\\\n",
      "                                          |\\\\___/|      /   \\\\//  \\\\\\\\\n",
      "                                          /0  0  \\\\__  /    //  | \\\\ \\\\    \n",
      "                                         /     /  \\\\/_/    //   |  \\\\  \\\\  \n",
      "                                         \\@_^_\\@'/   \\\\/_   //    |   \\\\   \\\\ \n",
      "                                         //_^_/     \\\\/_ //     |    \\\\    \\\\\n",
      "                                      ( //) |        \\\\///      |     \\\\     \\\\\n",
      "                                    ( / /) _|_ /   )  //       |      \\\\     _\\\\\n",
      "                                  ( // /) '/,_ _ _/  ( ; -.    |    _ _\\\\.-~        .-~~~^-.\n",
      "                                (( / / )) ,-{        _      `-.|.-~-.           .~         `.\n",
      "                               (( // / ))  '/\\\\      /                 ~-. _ .-~      .-~^-.  \\\\\n",
      "                               (( /// ))      `.   {            }                   /      \\\\  \\\\\n",
      "                                (( / ))     .----~-.\\\\        \\\\-'                 .~         \\\\  `. \\\\^-.\n",
      "                                           ///.----..>        \\\\             _ -~             `.  ^-`  ^-_\n",
      "                                             ///-._ _ _ _ _ _ _}^ - - - - ~                     ~-- ,.-~\n",
      "                                                                                                /.-~\n",
      "                                       \n",
      "                                       \n"
     ]
    }
   ],
   "source": [
    "cw.dragon(\"simple living high thinking  \")"
   ]
  },
  {
   "cell_type": "code",
   "execution_count": 10,
   "metadata": {},
   "outputs": [
    {
     "name": "stdout",
     "output_type": "stream",
     "text": [
      "  _______\n",
      "< Lucknow >\n",
      "  =======\n",
      "            \\\n",
      "             \\\n",
      "              \\\n",
      "               \\     \n",
      "                           __---__\n",
      "                        _-       /--______\n",
      "                   __--( /     \\ )XXXXXXXXXXX\\v.\n",
      "                 .-XXX(   O   O  )XXXXXXXXXXXXXXX-\n",
      "                /XXX(       U     )        XXXXXXX\\\n",
      "              /XXXXX(              )--_  XXXXXXXXXXX\\\n",
      "             /XXXXX/ (      O     )   XXXXXX   \\XXXXX\\\n",
      "             XXXXX/   /            XXXXXX   \\__ \\XXXXX\n",
      "             XXXXXX__/          XXXXXX         \\__---->\n",
      "     ---___  XXX__/          XXXXXX      \\__         /\n",
      "       \\-  --__/   ___/\\  XXXXXX            /  ___--/=\n",
      "        \\-\\    ___/    XXXXXX              '--- XXXXXX\n",
      "           \\-\\/XXX\\ XXXXXX                      /XXXXX\n",
      "             \\XXXXXXXXX   \\                    /XXXXX/\n",
      "              \\XXXXXX      >                 _/XXXXX/\n",
      "                \\XXXXX--__/              __-- XXXX/\n",
      "                 -XXXXXXXX---------------  XXXXXX-\n",
      "                    \\XXXXXXXXXXXXXXXXXXXXXXXXXX/\n",
      "                      \"\"VXXXXXXXXXXXXXXXXXXV\"\"\n",
      "                      \n",
      "                \n"
     ]
    }
   ],
   "source": [
    "cw.ghostbusters(\"Lucknow\")"
   ]
  },
  {
   "cell_type": "code",
   "execution_count": 11,
   "metadata": {},
   "outputs": [
    {
     "name": "stdout",
     "output_type": "stream",
     "text": [
      "  ______\n",
      "< YoYoYo >\n",
      "  ======\n",
      "           \\\n",
      "            \\\n",
      "             \\\n",
      "              \\\n",
      "          \n",
      "              (\"`-'  '-/\") .___..--' ' \"`-._\n",
      "                  ` *_ *  )    `-.   (      ) .`-.__. `)\n",
      "                  (_Y_.) ' ._   )   `._` ;  `` -. .-'\n",
      "               _.. `--'_..-_/   /--' _ .' ,4\n",
      "            ( i l ),-''  ( l i),'  ( ( ! .-'  \n",
      "                 \n",
      "                 \n"
     ]
    }
   ],
   "source": [
    "cw.kitty(\"YoYoYo\")"
   ]
  },
  {
   "cell_type": "code",
   "execution_count": 12,
   "metadata": {},
   "outputs": [
    {
     "data": {
      "text/plain": [
       "<module 'cowsay.main' from 'C:\\\\ProgramData\\\\Anaconda3\\\\lib\\\\site-packages\\\\cowsay\\\\main.py'>"
      ]
     },
     "execution_count": 12,
     "metadata": {},
     "output_type": "execute_result"
    }
   ],
   "source": [
    "cw.main"
   ]
  },
  {
   "cell_type": "code",
   "execution_count": 13,
   "metadata": {},
   "outputs": [
    {
     "name": "stdout",
     "output_type": "stream",
     "text": [
      "  ____\n",
      "< Meow >\n",
      "  ====\n",
      "         \\\n",
      "          \\\n",
      "           \\\n",
      "            \\\n",
      "                           _ ___.--'''`--''//-,-_--_.\n",
      "               \\\\`\"' ` || \\\\\\\\ \\\\ \\\\\\\\/ / // / ,-\\\\\\\\`,_\n",
      "              /'`  \\\\ \\\\ || Y  | \\\\|/ / // / - |__ `-,\n",
      "             /\\@\"\\\\  ` \\\\ `\\\\ |  | ||/ // | \\\\/  \\\\  `-._`-,_.,\n",
      "            /  _.-. `.-\\\\,___/\\\\ _/|_/_\\\\_\\\\/|_/ |     `-._._)\n",
      "            `-'``/  /  |  // \\\\__/\\\\__  /  \\\\__/ \\\\\n",
      "                 `-'  /-\\\\/  | -|   \\\\__ \\\\   |-' |\n",
      "                   __/\\\\ / _/ \\\\/ __,-'   ) ,' _|'\n",
      "                  (((__/(((_.' ((___..-'((__,'\n",
      "                  \n",
      "                 \n"
     ]
    }
   ],
   "source": [
    "cw.meow(\"Meow\")"
   ]
  },
  {
   "cell_type": "code",
   "execution_count": 14,
   "metadata": {},
   "outputs": [
    {
     "name": "stdout",
     "output_type": "stream",
     "text": [
      "  _______\n",
      "< Strange >\n",
      "  =======\n",
      "            \\\n",
      "             \\\n",
      "              \\\n",
      "               \\             \n",
      "                   ____________ \n",
      "                   |__________|\n",
      "                  /           /\\\n",
      "                 /           /  \\\n",
      "                /___________/___/|\n",
      "                |          |     |\n",
      "                |  ==\\ /== |     |\n",
      "                |   O   O  | \\ \\ |\n",
      "                |     <    |  \\ \\|\n",
      "               /|          |   \\ \\\n",
      "              / |  \\_____/ |   / /\n",
      "             / /|          |  / /|\n",
      "            /||\\|          | /||\\/\n",
      "                -------------|   \n",
      "                    | |    | | \n",
      "                   <__/    \\__>\n",
      "                   \n",
      "                   \n"
     ]
    }
   ],
   "source": [
    "cw.milk(\"Strange\")"
   ]
  },
  {
   "cell_type": "code",
   "execution_count": 15,
   "metadata": {},
   "outputs": [
    {
     "name": "stdout",
     "output_type": "stream",
     "text": [
      "  __________\n",
      "< Lalalalala >\n",
      "  ==========\n",
      "               \\\n",
      "                \\\n",
      "                 \\\n",
      "                  \\\n",
      "                            ,.\n",
      "                           (_|,.\n",
      "                           ,' /, )_______   _\n",
      "                       __j o``-'        `.'-)'\n",
      "                       (\")                 \\'\n",
      "                       `-j                |\n",
      "                           `-._(           /\n",
      "                               |_\\  |--^.  /\n",
      "                           /_]'|_| /_)_/\n",
      "                               /_]'  /_]'\n",
      "                     \n"
     ]
    }
   ],
   "source": [
    "cw.pig(\"Lalalalala\")"
   ]
  },
  {
   "cell_type": "code",
   "execution_count": 16,
   "metadata": {},
   "outputs": [
    {
     "name": "stdout",
     "output_type": "stream",
     "text": [
      "  ______\n",
      "< Strong >\n",
      "  ======\n",
      "           \\\n",
      "            \\\n",
      "             \\\n",
      "              \\                       \n",
      "                                        / `.   .' \" \n",
      "                                .---.  <    > <    >  .---.\n",
      "                                |    \\  \\ - ~ ~ - /  /    |\n",
      "            _____          ..-~             ~-..-~\n",
      "           |     |   \\~~~\\.'                    `./~~~/\n",
      "          ---------   \\__/                        \\__/\n",
      "         .'  O    \\     /               /       \\  \" \n",
      "        (_____,    `._.'               |         }  \\/~~~/\n",
      "         `----.          /       }     |        /    \\__/\n",
      "               `-.      |       /      |       /      `. ,~~|\n",
      "                   ~-.__|      /_ - ~ ^|      /- _      `..-'   \n",
      "                        |     /        |     /     ~-.     `-. _  _  _\n",
      "                        |_____|        |_____|         ~ - . _ _ _ _ _>\n",
      "                 \n"
     ]
    }
   ],
   "source": [
    "cw.stegosaurus(\"Strong\")"
   ]
  },
  {
   "cell_type": "code",
   "execution_count": 17,
   "metadata": {},
   "outputs": [
    {
     "name": "stdout",
     "output_type": "stream",
     "text": [
      "  ______\n",
      "< qwerty >\n",
      "  ======\n",
      "           \\\n",
      "            \\\n",
      "             \\\n",
      "              \\           \n",
      "                  .    _  .    \n",
      "                 |\\_|/__/|    \n",
      "                 / / \\/ \\  \\  \n",
      "                /__|O||O|__ \\ \n",
      "               |/_ \\_/\\_/ _\\ |  \n",
      "               | | (____) | ||  \n",
      "               \\/\\___/\\__/  // \n",
      "               (_/         ||\n",
      "                |          ||\n",
      "                |          ||\\   \n",
      "                 \\        //_/  \n",
      "                  \\______//\n",
      "                 __ || __||\n",
      "                (____(____)\n",
      "                \n",
      "                  \n"
     ]
    }
   ],
   "source": [
    "cw.stimpy(\"qwerty\")"
   ]
  },
  {
   "cell_type": "code",
   "execution_count": 18,
   "metadata": {},
   "outputs": [
    {
     "name": "stdout",
     "output_type": "stream",
     "text": [
      "  _____\n",
      "< Delhi >\n",
      "  =====\n",
      "          \\\n",
      "           \\\n",
      "            \\\n",
      "             \\\n",
      "                                               ,+*^^*+___+++_\n",
      "                                         ,*^^^^              )\n",
      "                                      _+*                     ^**+_\n",
      "                                    +^       _ _++*+_+++_,         )\n",
      "                _+^^*+_    (     ,+*^ ^          \\\\+_        )\n",
      "               {       )  (    ,(    ,_+--+--,      ^)      ^\\\\\n",
      "              { (\\@)    } f   ,(  ,+-^ __*_*_  ^^\\\\_   ^\\\\       )\n",
      "             {:;-/    (_+*-+^^^^^+*+*<_ _++_)_    )    )      /\n",
      "            ( /  (    (        ,___    ^*+_+* )   <    <      \\\\\n",
      "             U _/     )    *--<  ) ^\\\\-----++__)   )    )       )\n",
      "              (      )  _(^)^^))  )  )\\\\^^^^^))^*+/    /       /\n",
      "            (      /  (_))_^)) )  )  ))^^^^^))^^^)__/     +^^\n",
      "           (     ,/    (^))^))  )  ) ))^^^^^^^))^^)       _)\n",
      "            *+__+*       (_))^)  ) ) ))^^^^^^))^^^^^)____*^\n",
      "            \\\\             \\\\_)^)_)) ))^^^^^^^^^^))^^^^)\n",
      "             (_             ^\\\\__^^^^^^^^^^^^))^^^^^^^)\n",
      "               ^\\\\___            ^\\\\__^^^^^^))^^^^^^^^)\\\\\\\\\n",
      "                    ^^^^^\\\\uuu/^^\\\\uuu/^^^^\\\\^\\\\^\\\\^\\\\^\\\\^\\\\^\\\\^\\\\\n",
      "                       ___) >____) >___   ^\\\\_\\\\_\\\\_\\\\_\\\\_\\\\_\\\\)\n",
      "                      ^^^//\\\\\\\\_^^//\\\\\\\\_^       ^(\\\\_\\\\_\\\\_\\\\)\n",
      "                        ^^^ ^^ ^^^ ^\n",
      "                        \n",
      "             \n"
     ]
    }
   ],
   "source": [
    "cw.turkey(\"Delhi\")"
   ]
  },
  {
   "cell_type": "code",
   "execution_count": 19,
   "metadata": {},
   "outputs": [
    {
     "name": "stdout",
     "output_type": "stream",
     "text": [
      "  ________\n",
      "< Tortoise >\n",
      "  ========\n",
      "             \\\n",
      "              \\\n",
      "               \\\n",
      "                \\      \n",
      "                                                    ___-------___\n",
      "                                                _-~~             ~~-_\n",
      "                                             _-~                    /~-_\n",
      "                  /^\\__/^\\         /~  \\                   /    \\\n",
      "                /|  O|| O|        /      \\_______________/        \\\n",
      "               | |___||__|      /       /                \\          \\\n",
      "               |          \\    /      /                    \\          \\\n",
      "               |   (_______) /______/                        \\_________ \\\n",
      "               |         / /         \\                      /            \\\n",
      "                \\         \\^\\\\         \\                  /               \\     /\n",
      "                  \\         ||           \\______________/      _-_       //\\__//\n",
      "                    \\       ||------_-~~-_ ------------- \\ --/~   ~\\    || __/\n",
      "                      ~-----||====/~     |==================|       |/~~~~~\n",
      "                       (_(__/  ./     /                    \\_\\      \\.\n",
      "                              (_(___/                         \\_____)_)\n",
      "             \n"
     ]
    }
   ],
   "source": [
    "cw.turtle(\"Tortoise\")"
   ]
  },
  {
   "cell_type": "code",
   "execution_count": 20,
   "metadata": {},
   "outputs": [
    {
     "name": "stdout",
     "output_type": "stream",
     "text": [
      "  _____\n",
      "< Linux >\n",
      "  =====\n",
      "          \\\n",
      "           \\\n",
      "            \\      \n",
      "             .--.\n",
      "            |o_o |\n",
      "            |:_/ |\n",
      "           //   \\ \\\n",
      "          (|     | )\n",
      "         /'\\_   _/`\\\n",
      "         \\___)=(___/\n",
      "         \n",
      "         \n"
     ]
    }
   ],
   "source": [
    "cw.tux(\"Linux\")"
   ]
  }
 ],
 "metadata": {
  "kernelspec": {
   "display_name": "Python 3",
   "language": "python",
   "name": "python3"
  },
  "language_info": {
   "codemirror_mode": {
    "name": "ipython",
    "version": 3
   },
   "file_extension": ".py",
   "mimetype": "text/x-python",
   "name": "python",
   "nbconvert_exporter": "python",
   "pygments_lexer": "ipython3",
   "version": "3.8.5"
  }
 },
 "nbformat": 4,
 "nbformat_minor": 4
}
